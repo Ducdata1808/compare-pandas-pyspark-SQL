{
 "cells": [
  {
   "cell_type": "code",
   "execution_count": 1,
   "id": "bb441c70-9141-4a09-9c75-5ea1e057e643",
   "metadata": {
    "tags": []
   },
   "outputs": [],
   "source": [
    "from pyspark.sql import SparkSession"
   ]
  },
  {
   "cell_type": "code",
   "execution_count": 7,
   "id": "cc31e2aa-b466-4f61-8818-d8c301001bfb",
   "metadata": {
    "tags": []
   },
   "outputs": [],
   "source": [
    "from pyspark.sql.functions import *\n"
   ]
  },
  {
   "cell_type": "code",
   "execution_count": 2,
   "id": "4096309e-b7ae-4119-b696-383b12eb3f02",
   "metadata": {
    "tags": []
   },
   "outputs": [
    {
     "name": "stderr",
     "output_type": "stream",
     "text": [
      "25/07/03 14:23:52 WARN SparkSession: Using an existing Spark session; only runtime SQL configurations will take effect.\n"
     ]
    }
   ],
   "source": [
    "spark = SparkSession.builder \\\n",
    ".appName(\"Wordcount_Demo\") \\\n",
    ".master(\"yarn\") \\\n",
    ".getOrCreate()"
   ]
  },
  {
   "cell_type": "code",
   "execution_count": 3,
   "id": "c9ee7a07-4348-4f4a-a162-1dc4235700c9",
   "metadata": {
    "tags": []
   },
   "outputs": [
    {
     "name": "stderr",
     "output_type": "stream",
     "text": [
      "                                                                                \r"
     ]
    }
   ],
   "source": [
    "df = spark.read\\\n",
    ".format(\"csv\")\\\n",
    ".option(\"header\", \"true\")\\\n",
    ".option(\"inferSchema\", \"true\")\\\n",
    ".load(\"gs://my_spark_data/students.csv\")"
   ]
  },
  {
   "cell_type": "code",
   "execution_count": 4,
   "id": "3b2b693e-b0cc-4212-8c80-14b8c66b24db",
   "metadata": {
    "tags": []
   },
   "outputs": [
    {
     "name": "stderr",
     "output_type": "stream",
     "text": [
      "[Stage 2:>                                                          (0 + 1) / 1]\r"
     ]
    },
    {
     "name": "stdout",
     "output_type": "stream",
     "text": [
      "+----------+------------+--------------------+-----+----+\n",
      "|student_id|        name|               major|score|year|\n",
      "+----------+------------+--------------------+-----+----+\n",
      "|  cca8c1d5|SinhVien 208|          Accounting| 2.92|   2|\n",
      "|  dcf972ad|SinhVien 288|             History| 3.68|   4|\n",
      "|  a3aaca46|SinhVien 899|Artificial Intell...| 3.49|   3|\n",
      "|  a142708c|SinhVien 573|           Chemistry| 3.35|   1|\n",
      "|  8f713b85|SinhVien 597|             Physics| 2.18|   2|\n",
      "|  aab8ceff|SinhVien 345|         Mathematics| 3.41|   4|\n",
      "|  59e8e4cd|SinhVien 607|Artificial Intell...| 2.45|   3|\n",
      "|  4f9ad69f|SinhVien 679|             History| 3.46|   3|\n",
      "|  721b14a6|SinhVien 682|             Physics| 2.84|   4|\n",
      "|  611cb4f2|SinhVien 919|          Literature| 2.22|   2|\n",
      "|  e5021dc1|SinhVien 960|Electrical Engine...| 2.94|   1|\n",
      "|  16deb048|SinhVien 757|         Mathematics|  3.5|   3|\n",
      "|  18ce4d69|SinhVien 761|           Economics|  2.5|   4|\n",
      "|  5cb5dc0f|SinhVien 487|Biomedical Engine...| 3.12|   1|\n",
      "|  0de24aa6|SinhVien 983|         Mathematics| 3.94|   1|\n",
      "|  da5ec648|SinhVien 285|             Finance|  2.3|   3|\n",
      "|  6e22e33d|SinhVien 567|           Marketing| 3.01|   4|\n",
      "|  7d7d9b41|SinhVien 883|             Finance| 2.78|   3|\n",
      "|  93366c9e|SinhVien 525|Mechanical Engine...| 2.17|   3|\n",
      "|  8be7d1c4|SinhVien 580|           Economics| 3.64|   2|\n",
      "+----------+------------+--------------------+-----+----+\n",
      "only showing top 20 rows\n",
      "\n"
     ]
    },
    {
     "name": "stderr",
     "output_type": "stream",
     "text": [
      "                                                                                \r"
     ]
    }
   ],
   "source": [
    "df.show()"
   ]
  },
  {
   "cell_type": "code",
   "execution_count": 5,
   "id": "1f03aba8-6eb3-402f-bfbc-ae76ed829cd0",
   "metadata": {
    "tags": []
   },
   "outputs": [
    {
     "name": "stderr",
     "output_type": "stream",
     "text": [
      "[Stage 3:>                                                          (0 + 1) / 1]\r"
     ]
    },
    {
     "name": "stdout",
     "output_type": "stream",
     "text": [
      "+----------+------------+--------------------+-----+----+\n",
      "|student_id|        name|               major|score|year|\n",
      "+----------+------------+--------------------+-----+----+\n",
      "|  cca8c1d5|SinhVien 208|          Accounting| 2.92|   2|\n",
      "|  dcf972ad|SinhVien 288|             History| 3.68|   4|\n",
      "|  a3aaca46|SinhVien 899|Artificial Intell...| 3.49|   3|\n",
      "|  a142708c|SinhVien 573|           Chemistry| 3.35|   1|\n",
      "|  8f713b85|SinhVien 597|             Physics| 2.18|   2|\n",
      "+----------+------------+--------------------+-----+----+\n",
      "only showing top 5 rows\n",
      "\n"
     ]
    },
    {
     "name": "stderr",
     "output_type": "stream",
     "text": [
      "                                                                                \r"
     ]
    }
   ],
   "source": [
    "df.show(5)"
   ]
  },
  {
   "cell_type": "code",
   "execution_count": 8,
   "id": "a706aa58-dce1-4958-92b1-12c739ece36e",
   "metadata": {
    "tags": []
   },
   "outputs": [
    {
     "name": "stderr",
     "output_type": "stream",
     "text": [
      "[Stage 4:>                                                          (0 + 1) / 1]\r"
     ]
    },
    {
     "name": "stdout",
     "output_type": "stream",
     "text": [
      "+-----------------+\n",
      "|       avg(score)|\n",
      "+-----------------+\n",
      "|2.954900000000001|\n",
      "+-----------------+\n",
      "\n"
     ]
    },
    {
     "name": "stderr",
     "output_type": "stream",
     "text": [
      "                                                                                \r"
     ]
    }
   ],
   "source": [
    "# calculate score average\n",
    "df.select(avg(\"score\")).show()"
   ]
  },
  {
   "cell_type": "code",
   "execution_count": 10,
   "id": "08973ec6-0f52-4576-876d-f14c9c472c81",
   "metadata": {
    "tags": []
   },
   "outputs": [
    {
     "name": "stderr",
     "output_type": "stream",
     "text": [
      "                                                                                \r"
     ]
    },
    {
     "name": "stdout",
     "output_type": "stream",
     "text": [
      "+----------+------------+-------+-----+----+\n",
      "|student_id|        name|  major|score|year|\n",
      "+----------+------------+-------+-----+----+\n",
      "|  d0314395|SinhVien 937|Physics|  4.0|   3|\n",
      "+----------+------------+-------+-----+----+\n",
      "\n"
     ]
    },
    {
     "name": "stderr",
     "output_type": "stream",
     "text": [
      "[Stage 12:>                                                         (0 + 1) / 1]\r"
     ]
    },
    {
     "name": "stdout",
     "output_type": "stream",
     "text": [
      "+----------+------------+-------+-----+----+\n",
      "|student_id|        name|  major|score|year|\n",
      "+----------+------------+-------+-----+----+\n",
      "|  d0314395|SinhVien 937|Physics|  4.0|   3|\n",
      "+----------+------------+-------+-----+----+\n",
      "\n"
     ]
    },
    {
     "name": "stderr",
     "output_type": "stream",
     "text": [
      "                                                                                \r"
     ]
    }
   ],
   "source": [
    "# find student who has highest score\n",
    "# method 1\n",
    "df.orderBy(df[\"score\"].desc()).limit(1).show()\n",
    "# method 2\n",
    "max_score = df.agg(max(\"score\")).first()[0] # get highest score\n",
    "df.filter(df[\"score\"] == max_score).show() # get student who has this that score"
   ]
  },
  {
   "cell_type": "code",
   "execution_count": 11,
   "id": "ae71ee56-6631-488f-b85f-171ac9523d61",
   "metadata": {
    "tags": []
   },
   "outputs": [
    {
     "name": "stderr",
     "output_type": "stream",
     "text": [
      "[Stage 13:>                                                         (0 + 1) / 1]\r"
     ]
    },
    {
     "name": "stdout",
     "output_type": "stream",
     "text": [
      "+--------------------+-----+\n",
      "|               major|count|\n",
      "+--------------------+-----+\n",
      "|             Finance|    7|\n",
      "|Business Administ...|    3|\n",
      "|           Marketing|    5|\n",
      "|Artificial Intell...|    6|\n",
      "|    Computer Science|    4|\n",
      "|          Literature|    8|\n",
      "|             History|    6|\n",
      "|         Mathematics|    5|\n",
      "|Mechanical Engine...|    3|\n",
      "|           Economics|   10|\n",
      "|Electrical Engine...|    3|\n",
      "|        Data Science|    4|\n",
      "|          Accounting|    7|\n",
      "|Biomedical Engine...|    4|\n",
      "|           Sociology|    6|\n",
      "|             Physics|    5|\n",
      "|   Civil Engineering|    4|\n",
      "|           Chemistry|    5|\n",
      "|          Psychology|    5|\n",
      "+--------------------+-----+\n",
      "\n"
     ]
    },
    {
     "name": "stderr",
     "output_type": "stream",
     "text": [
      "                                                                                \r"
     ]
    }
   ],
   "source": [
    "# count students by majors\n",
    "df.groupBy(\"major\").count().show()"
   ]
  },
  {
   "cell_type": "code",
   "execution_count": 14,
   "id": "21d8957c-75f8-4ea9-a3bd-795eab5ec7e8",
   "metadata": {
    "tags": []
   },
   "outputs": [
    {
     "name": "stderr",
     "output_type": "stream",
     "text": [
      "[Stage 17:>                                                         (0 + 1) / 1]\r"
     ]
    },
    {
     "name": "stdout",
     "output_type": "stream",
     "text": [
      "+----------+\n",
      "|student_id|\n",
      "+----------+\n",
      "|  dcf972ad|\n",
      "|  16deb048|\n",
      "|  0de24aa6|\n",
      "|  8be7d1c4|\n",
      "|  9a278044|\n",
      "|  3974942a|\n",
      "|  141a04e0|\n",
      "|  f8067c3b|\n",
      "|  19dda143|\n",
      "|  7e9e7ea5|\n",
      "|  b8157ea4|\n",
      "|  648e1754|\n",
      "|  d0314395|\n",
      "|  45ae2376|\n",
      "|  d592fa19|\n",
      "|  8e19d707|\n",
      "|  795b9eab|\n",
      "|  bb721465|\n",
      "|  bebcc8a8|\n",
      "|  a54b3f43|\n",
      "+----------+\n",
      "only showing top 20 rows\n",
      "\n"
     ]
    },
    {
     "name": "stderr",
     "output_type": "stream",
     "text": [
      "                                                                                \r"
     ]
    }
   ],
   "source": [
    "# filter students who have score higher than 3.5\n",
    "df.select(\"student_id\").where(col(\"score\") >= 3.5).show()"
   ]
  },
  {
   "cell_type": "code",
   "execution_count": 15,
   "id": "461a084e-f5d0-41d1-8430-b4868e15328c",
   "metadata": {
    "tags": []
   },
   "outputs": [
    {
     "name": "stderr",
     "output_type": "stream",
     "text": [
      "[Stage 18:>                                                         (0 + 1) / 1]\r"
     ]
    },
    {
     "name": "stdout",
     "output_type": "stream",
     "text": [
      "+--------------------+------------------+\n",
      "|               major|         avg_score|\n",
      "+--------------------+------------------+\n",
      "|             Finance|2.8714285714285714|\n",
      "|Business Administ...|              3.23|\n",
      "|           Marketing|             3.312|\n",
      "|Artificial Intell...|3.0416666666666665|\n",
      "|    Computer Science|              3.04|\n",
      "|          Literature|            2.9075|\n",
      "|             History| 2.671666666666667|\n",
      "|         Mathematics|             3.278|\n",
      "|Mechanical Engine...| 2.663333333333333|\n",
      "|           Economics|             2.962|\n",
      "|Electrical Engine...| 2.776666666666666|\n",
      "|        Data Science|            2.7925|\n",
      "|          Accounting|3.1185714285714283|\n",
      "|Biomedical Engine...|              3.19|\n",
      "|           Sociology|2.8266666666666667|\n",
      "|             Physics|             2.896|\n",
      "|   Civil Engineering|             2.845|\n",
      "|           Chemistry|             3.026|\n",
      "|          Psychology|2.6799999999999997|\n",
      "+--------------------+------------------+\n",
      "\n"
     ]
    },
    {
     "name": "stderr",
     "output_type": "stream",
     "text": [
      "                                                                                \r"
     ]
    }
   ],
   "source": [
    "# calculate average by major\n",
    "df.groupBy(\"major\").agg(avg(\"score\").alias(\"avg_score\")).show()"
   ]
  },
  {
   "cell_type": "code",
   "execution_count": null,
   "id": "8e8e01fe-4aa7-4f00-829f-67ed06494935",
   "metadata": {},
   "outputs": [],
   "source": []
  }
 ],
 "metadata": {
  "kernelspec": {
   "display_name": "PySpark",
   "language": "python",
   "name": "pyspark"
  },
  "language_info": {
   "codemirror_mode": {
    "name": "ipython",
    "version": 3
   },
   "file_extension": ".py",
   "mimetype": "text/x-python",
   "name": "python",
   "nbconvert_exporter": "python",
   "pygments_lexer": "ipython3",
   "version": "3.11.8"
  }
 },
 "nbformat": 4,
 "nbformat_minor": 5
}
