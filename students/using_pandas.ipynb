{
 "cells": [
  {
   "cell_type": "code",
   "execution_count": 2,
   "id": "507fab5f",
   "metadata": {},
   "outputs": [],
   "source": [
    "import pandas as pd"
   ]
  },
  {
   "cell_type": "code",
   "execution_count": 3,
   "id": "ada3c897",
   "metadata": {},
   "outputs": [],
   "source": [
    "df = pd.read_csv(\"students.csv\")"
   ]
  },
  {
   "cell_type": "code",
   "execution_count": 4,
   "id": "92f65c7f",
   "metadata": {},
   "outputs": [
    {
     "data": {
      "text/html": [
       "<div>\n",
       "<style scoped>\n",
       "    .dataframe tbody tr th:only-of-type {\n",
       "        vertical-align: middle;\n",
       "    }\n",
       "\n",
       "    .dataframe tbody tr th {\n",
       "        vertical-align: top;\n",
       "    }\n",
       "\n",
       "    .dataframe thead th {\n",
       "        text-align: right;\n",
       "    }\n",
       "</style>\n",
       "<table border=\"1\" class=\"dataframe\">\n",
       "  <thead>\n",
       "    <tr style=\"text-align: right;\">\n",
       "      <th></th>\n",
       "      <th>student_id</th>\n",
       "      <th>name</th>\n",
       "      <th>major</th>\n",
       "      <th>score</th>\n",
       "      <th>year</th>\n",
       "    </tr>\n",
       "  </thead>\n",
       "  <tbody>\n",
       "    <tr>\n",
       "      <th>0</th>\n",
       "      <td>cca8c1d5</td>\n",
       "      <td>SinhVien 208</td>\n",
       "      <td>Accounting</td>\n",
       "      <td>2.92</td>\n",
       "      <td>2</td>\n",
       "    </tr>\n",
       "    <tr>\n",
       "      <th>1</th>\n",
       "      <td>dcf972ad</td>\n",
       "      <td>SinhVien 288</td>\n",
       "      <td>History</td>\n",
       "      <td>3.68</td>\n",
       "      <td>4</td>\n",
       "    </tr>\n",
       "    <tr>\n",
       "      <th>2</th>\n",
       "      <td>a3aaca46</td>\n",
       "      <td>SinhVien 899</td>\n",
       "      <td>Artificial Intelligence</td>\n",
       "      <td>3.49</td>\n",
       "      <td>3</td>\n",
       "    </tr>\n",
       "    <tr>\n",
       "      <th>3</th>\n",
       "      <td>a142708c</td>\n",
       "      <td>SinhVien 573</td>\n",
       "      <td>Chemistry</td>\n",
       "      <td>3.35</td>\n",
       "      <td>1</td>\n",
       "    </tr>\n",
       "    <tr>\n",
       "      <th>4</th>\n",
       "      <td>8f713b85</td>\n",
       "      <td>SinhVien 597</td>\n",
       "      <td>Physics</td>\n",
       "      <td>2.18</td>\n",
       "      <td>2</td>\n",
       "    </tr>\n",
       "  </tbody>\n",
       "</table>\n",
       "</div>"
      ],
      "text/plain": [
       "  student_id          name                    major  score  year\n",
       "0   cca8c1d5  SinhVien 208               Accounting   2.92     2\n",
       "1   dcf972ad  SinhVien 288                  History   3.68     4\n",
       "2   a3aaca46  SinhVien 899  Artificial Intelligence   3.49     3\n",
       "3   a142708c  SinhVien 573                Chemistry   3.35     1\n",
       "4   8f713b85  SinhVien 597                  Physics   2.18     2"
      ]
     },
     "execution_count": 4,
     "metadata": {},
     "output_type": "execute_result"
    }
   ],
   "source": [
    "df.head()"
   ]
  },
  {
   "cell_type": "code",
   "execution_count": 5,
   "id": "731742d4",
   "metadata": {},
   "outputs": [
    {
     "name": "stdout",
     "output_type": "stream",
     "text": [
      "2.954900000000001\n"
     ]
    }
   ],
   "source": [
    "sum = 0\n",
    "for i in range(len(df)):\n",
    "    sum += df.at[i, \"score\"]\n",
    "average_score = sum / len(df)\n",
    "print(average_score)"
   ]
  },
  {
   "cell_type": "code",
   "execution_count": 22,
   "id": "464c19b6",
   "metadata": {},
   "outputs": [
    {
     "name": "stdout",
     "output_type": "stream",
     "text": [
      "d0314395\n",
      "4\n",
      "<class 'pandas.core.frame.DataFrame'>\n",
      "RangeIndex: 100 entries, 0 to 99\n",
      "Data columns (total 5 columns):\n",
      " #   Column      Non-Null Count  Dtype \n",
      "---  ------      --------------  ----- \n",
      " 0   student_id  100 non-null    object\n",
      " 1   name        100 non-null    object\n",
      " 2   major       100 non-null    object\n",
      " 3   score       100 non-null    int64 \n",
      " 4   year        100 non-null    int64 \n",
      "dtypes: int64(2), object(3)\n",
      "memory usage: 4.0+ KB\n",
      "None\n"
     ]
    }
   ],
   "source": [
    "highest_score_student = df.at[0, \"student_id\"]\n",
    "position = 0\n",
    "for i in range(len(df)):\n",
    "    if df.at[i, \"score\"] > df.at[position, \"score\"]:\n",
    "        position = i\n",
    "        highest_score_student = df.at[i, \"student_id\"]\n",
    "print(highest_score_student)\n",
    "print(df.at[position, \"score\"])\n",
    "df[\"score\"] = df[\"score\"].astype(int)\n",
    "print(df.info())\n"
   ]
  },
  {
   "cell_type": "code",
   "execution_count": 26,
   "id": "2cbd013c",
   "metadata": {},
   "outputs": [
    {
     "name": "stdout",
     "output_type": "stream",
     "text": [
      "                     majors  students  sum score  average score\n",
      "0                Accounting         7         18       2.571429\n",
      "1                   History         6         14       2.333333\n",
      "2   Artificial Intelligence         6         15       2.500000\n",
      "3                 Chemistry         5         13       2.600000\n",
      "4                   Physics         5         13       2.600000\n",
      "5               Mathematics         5         14       2.800000\n",
      "6                Literature         8         20       2.500000\n",
      "7    Electrical Engineering         3          7       2.333333\n",
      "8                 Economics        10         25       2.500000\n",
      "9    Biomedical Engineering         4         11       2.750000\n",
      "10                  Finance         7         16       2.285714\n",
      "11                Marketing         5         14       2.800000\n",
      "12   Mechanical Engineering         3          7       2.333333\n",
      "13  Business Administration         3          8       2.666667\n",
      "14                Sociology         6         15       2.500000\n",
      "15         Computer Science         4         10       2.500000\n",
      "16               Psychology         5         12       2.400000\n",
      "17        Civil Engineering         4         10       2.500000\n",
      "18             Data Science         4          9       2.250000\n"
     ]
    }
   ],
   "source": [
    "unique_majors = df[\"major\"].unique()\n",
    "count_students = [0 for i in range(len(unique_majors))]\n",
    "sum_by_majors = [0 for i in range(len(unique_majors))]\n",
    "for i in range(len(df)):\n",
    "    for j in range(len(unique_majors)):\n",
    "        if df.at[i, \"major\"] == unique_majors[j]:\n",
    "            sum_by_majors[j] += df.at[i, \"score\"]\n",
    "            count_students[j] += 1\n",
    "count_students_by_majors = pd.DataFrame(unique_majors, columns = [\"majors\"])\n",
    "count_students_by_majors[\"students\"] = count_students\n",
    "count_students_by_majors[\"sum score\"] = sum_by_majors\n",
    "count_students_by_majors[\"average score\"] = count_students_by_majors[\"sum score\"] / count_students_by_majors[\"students\"]\n",
    "print(count_students_by_majors)\n",
    "\n"
   ]
  },
  {
   "cell_type": "code",
   "execution_count": null,
   "id": "11739bc3",
   "metadata": {},
   "outputs": [],
   "source": []
  }
 ],
 "metadata": {
  "kernelspec": {
   "display_name": "Python 3",
   "language": "python",
   "name": "python3"
  },
  "language_info": {
   "codemirror_mode": {
    "name": "ipython",
    "version": 3
   },
   "file_extension": ".py",
   "mimetype": "text/x-python",
   "name": "python",
   "nbconvert_exporter": "python",
   "pygments_lexer": "ipython3",
   "version": "3.13.1"
  }
 },
 "nbformat": 4,
 "nbformat_minor": 5
}
