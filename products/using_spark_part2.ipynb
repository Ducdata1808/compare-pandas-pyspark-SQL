{
 "cells": [
  {
   "cell_type": "code",
   "execution_count": 14,
   "id": "9b5ff481-ff98-46bd-bb55-e8ebcf147fb5",
   "metadata": {
    "tags": []
   },
   "outputs": [],
   "source": [
    "from pyspark.sql import SparkSession\n",
    "from pyspark.sql.functions import *"
   ]
  },
  {
   "cell_type": "code",
   "execution_count": 3,
   "id": "3fc1536b-35d3-4974-afa7-1cb37cbb9668",
   "metadata": {
    "tags": []
   },
   "outputs": [
    {
     "name": "stderr",
     "output_type": "stream",
     "text": [
      "25/07/05 01:28:36 WARN SparkSession: Using an existing Spark session; only runtime SQL configurations will take effect.\n"
     ]
    }
   ],
   "source": [
    "spark = SparkSession.builder \\\n",
    ".appName(\"Wordcount_Demo\") \\\n",
    ".master(\"yarn\") \\\n",
    ".getOrCreate()"
   ]
  },
  {
   "cell_type": "code",
   "execution_count": 4,
   "id": "f050bf66-8b37-4f7d-89a7-f1d93b623395",
   "metadata": {
    "tags": []
   },
   "outputs": [
    {
     "name": "stderr",
     "output_type": "stream",
     "text": [
      "                                                                                \r"
     ]
    }
   ],
   "source": [
    "df = spark.read\\\n",
    ".format(\"csv\")\\\n",
    ".option(\"header\", \"true\")\\\n",
    ".option(\"inferSchema\", \"true\")\\\n",
    ".load(\"gs://my_spark_data/orders.csv\")"
   ]
  },
  {
   "cell_type": "code",
   "execution_count": 5,
   "id": "fa424ff8-047d-484c-b5a4-0ab0686f8d20",
   "metadata": {
    "tags": []
   },
   "outputs": [
    {
     "name": "stderr",
     "output_type": "stream",
     "text": [
      "[Stage 2:>                                                          (0 + 1) / 1]\r"
     ]
    },
    {
     "name": "stdout",
     "output_type": "stream",
     "text": [
      "+------------+----------------+-------+--------+------+----------+\n",
      "|    order_id|        customer|product|quantity| price|order_date|\n",
      "+------------+----------------+-------+--------+------+----------+\n",
      "|pro_0068ee0e|     Ly Van Dung|   comb|       1| 21000|2025-01-27|\n",
      "|pro_0068ee0f| Nguyen Duc Tran| Mirror|       3| 80000|2025-01-23|\n",
      "|pro_0068ee10|      Pham Ba An|   Lamp|       6|120000|2025-02-01|\n",
      "|pro_0068ee11|       Le Ba Phu| Pencil|       8| 10000|2025-01-21|\n",
      "|pro_0068ee12|Nguyen Trong Duc|   Bomb|       9|700000|2025-01-31|\n",
      "|pro_0068ee13|      Le Duc Tai|   pipe|       8|240000|2025-01-21|\n",
      "|pro_0068ee14|Nguyen Van Hoang|    bed|       3|500000|2025-01-21|\n",
      "|pro_0068ee15|    Vo Duc Khanh|  glass|       3| 38000|2025-01-12|\n",
      "|pro_0068ee16|  Tran Trung Mai|   Bomb|       5|700000|2025-01-21|\n",
      "|pro_0068ee17|   Ly Xuan Huong| Pencil|       3| 10000|2025-01-01|\n",
      "+------------+----------------+-------+--------+------+----------+\n",
      "only showing top 10 rows\n",
      "\n"
     ]
    },
    {
     "name": "stderr",
     "output_type": "stream",
     "text": [
      "                                                                                \r"
     ]
    }
   ],
   "source": [
    "df.show(10)"
   ]
  },
  {
   "cell_type": "code",
   "execution_count": 10,
   "id": "13646799-41eb-47ef-b10e-833394638e43",
   "metadata": {
    "tags": []
   },
   "outputs": [
    {
     "name": "stderr",
     "output_type": "stream",
     "text": [
      "[Stage 4:>                                                          (0 + 1) / 1]\r"
     ]
    },
    {
     "name": "stdout",
     "output_type": "stream",
     "text": [
      "+-------+\n",
      "|  total|\n",
      "+-------+\n",
      "|  21000|\n",
      "| 240000|\n",
      "| 720000|\n",
      "|  80000|\n",
      "|6300000|\n",
      "|1920000|\n",
      "|1500000|\n",
      "| 114000|\n",
      "|3500000|\n",
      "|  30000|\n",
      "+-------+\n",
      "only showing top 10 rows\n",
      "\n"
     ]
    },
    {
     "name": "stderr",
     "output_type": "stream",
     "text": [
      "                                                                                \r"
     ]
    }
   ],
   "source": [
    "df.select((df[\"quantity\"] * df[\"price\"]).alias(\"total\")).show(10)"
   ]
  },
  {
   "cell_type": "code",
   "execution_count": 15,
   "id": "a484aeab-c05f-46a6-b368-43256a6ef1c1",
   "metadata": {
    "tags": []
   },
   "outputs": [
    {
     "name": "stderr",
     "output_type": "stream",
     "text": [
      "[Stage 5:>                                                          (0 + 1) / 1]\r"
     ]
    },
    {
     "name": "stdout",
     "output_type": "stream",
     "text": [
      "+-------------+\n",
      "|total revenue|\n",
      "+-------------+\n",
      "|     97321000|\n",
      "+-------------+\n",
      "\n"
     ]
    },
    {
     "name": "stderr",
     "output_type": "stream",
     "text": [
      "                                                                                \r"
     ]
    }
   ],
   "source": [
    "df.agg((sum(df[\"quantity\"] * df[\"price\"])).alias(\"total revenue\")).show()"
   ]
  },
  {
   "cell_type": "code",
   "execution_count": 21,
   "id": "00858466-a16f-443b-b5e5-840f286174dc",
   "metadata": {
    "tags": []
   },
   "outputs": [
    {
     "name": "stderr",
     "output_type": "stream",
     "text": [
      "[Stage 8:>                                                          (0 + 1) / 1]\r"
     ]
    },
    {
     "name": "stdout",
     "output_type": "stream",
     "text": [
      "+----------+------------+\n",
      "|order_date|total_orders|\n",
      "+----------+------------+\n",
      "|2025-01-01|           2|\n",
      "|2025-01-02|           6|\n",
      "|2025-01-03|           1|\n",
      "|2025-01-04|           2|\n",
      "|2025-01-05|           3|\n",
      "|2025-01-06|           1|\n",
      "|2025-01-10|           8|\n",
      "|2025-01-11|           4|\n",
      "|2025-01-12|           5|\n",
      "|2025-01-13|           1|\n",
      "|2025-01-14|           3|\n",
      "|2025-01-15|           4|\n",
      "|2025-01-16|           5|\n",
      "|2025-01-17|           5|\n",
      "|2025-01-18|           3|\n",
      "|2025-01-19|           6|\n",
      "|2025-01-20|           2|\n",
      "|2025-01-21|           5|\n",
      "|2025-01-22|           1|\n",
      "|2025-01-23|           4|\n",
      "+----------+------------+\n",
      "only showing top 20 rows\n",
      "\n"
     ]
    },
    {
     "name": "stderr",
     "output_type": "stream",
     "text": [
      "                                                                                \r"
     ]
    }
   ],
   "source": [
    "df.groupBy(df[\"order_date\"]) \\\n",
    "  .agg(count(\"*\").alias(\"total_orders\")) \\\n",
    "  .orderBy(df[\"order_date\"]) \\\n",
    "  .show()"
   ]
  },
  {
   "cell_type": "code",
   "execution_count": 28,
   "id": "25389800-a191-4553-be67-3c502f4f2172",
   "metadata": {
    "tags": []
   },
   "outputs": [
    {
     "name": "stderr",
     "output_type": "stream",
     "text": [
      "[Stage 17:>                                                         (0 + 1) / 1]\r"
     ]
    },
    {
     "name": "stdout",
     "output_type": "stream",
     "text": [
      "+----------+-------------+\n",
      "|order_date|total_revenue|\n",
      "+----------+-------------+\n",
      "|2025-01-10|     12683000|\n",
      "+----------+-------------+\n",
      "\n"
     ]
    },
    {
     "name": "stderr",
     "output_type": "stream",
     "text": [
      "                                                                                \r"
     ]
    }
   ],
   "source": [
    "df.groupBy(df[\"order_date\"]) \\\n",
    "  .agg(sum(df[\"quantity\"] * df[\"price\"]).alias(\"total_revenue\")) \\\n",
    "  .orderBy((col(\"total_revenue\")).desc())\\\n",
    "  .limit(1)\\\n",
    "  .show()"
   ]
  },
  {
   "cell_type": "code",
   "execution_count": 30,
   "id": "20847929-1720-40a4-9a28-6314a135f255",
   "metadata": {
    "tags": []
   },
   "outputs": [
    {
     "name": "stderr",
     "output_type": "stream",
     "text": [
      "[Stage 26:>                                                         (0 + 1) / 1]\r"
     ]
    },
    {
     "name": "stdout",
     "output_type": "stream",
     "text": [
      "+----------+--------+\n",
      "|order_date|   total|\n",
      "+----------+--------+\n",
      "|2025-01-10|12683000|\n",
      "+----------+--------+\n",
      "\n"
     ]
    },
    {
     "name": "stderr",
     "output_type": "stream",
     "text": [
      "                                                                                \r"
     ]
    }
   ],
   "source": [
    "total_by_date = df.groupBy(\"order_date\") \\\n",
    "                  .agg((sum(col(\"quantity\") * col(\"price\"))).alias(\"total\"))\n",
    "max_total = total_by_date.agg(max(\"total\").alias(\"max_total\")).collect()[0][\"max_total\"]\n",
    "total_by_date.filter(col(\"total\") == max_total).show()"
   ]
  },
  {
   "cell_type": "code",
   "execution_count": 31,
   "id": "74f290c2-b06e-4b32-948e-66fd9d63c254",
   "metadata": {
    "tags": []
   },
   "outputs": [
    {
     "name": "stderr",
     "output_type": "stream",
     "text": [
      "[Stage 29:>                                                         (0 + 1) / 1]\r"
     ]
    },
    {
     "name": "stdout",
     "output_type": "stream",
     "text": [
      "+------------+-------------+\n",
      "|     product|sum(quantity)|\n",
      "+------------+-------------+\n",
      "|    keyboard|            6|\n",
      "|        lock|            6|\n",
      "|        Lamp|           18|\n",
      "|         Gun|           19|\n",
      "|       Shoes|           18|\n",
      "|      Pencil|           16|\n",
      "|        pipe|           57|\n",
      "|         Key|           23|\n",
      "|        Soap|           24|\n",
      "|        comb|            7|\n",
      "|       glass|           34|\n",
      "|         Bag|            8|\n",
      "|         bed|            9|\n",
      "|        bowl|           27|\n",
      "|         Fan|           33|\n",
      "|        Bomb|           36|\n",
      "|       Chair|           20|\n",
      "|power outlet|           17|\n",
      "|        Book|           14|\n",
      "|       cover|           40|\n",
      "+------------+-------------+\n",
      "only showing top 20 rows\n",
      "\n"
     ]
    },
    {
     "name": "stderr",
     "output_type": "stream",
     "text": [
      "                                                                                \r"
     ]
    }
   ],
   "source": [
    "df.groupBy(df[\"product\"])\\\n",
    ".agg(sum(df[\"quantity\"]))\\\n",
    ".show()"
   ]
  },
  {
   "cell_type": "code",
   "execution_count": null,
   "id": "e7ea9f2f-72c5-415c-9a7d-edb3662f008f",
   "metadata": {},
   "outputs": [],
   "source": []
  }
 ],
 "metadata": {
  "kernelspec": {
   "display_name": "PySpark",
   "language": "python",
   "name": "pyspark"
  },
  "language_info": {
   "codemirror_mode": {
    "name": "ipython",
    "version": 3
   },
   "file_extension": ".py",
   "mimetype": "text/x-python",
   "name": "python",
   "nbconvert_exporter": "python",
   "pygments_lexer": "ipython3",
   "version": "3.11.8"
  }
 },
 "nbformat": 4,
 "nbformat_minor": 5
}
