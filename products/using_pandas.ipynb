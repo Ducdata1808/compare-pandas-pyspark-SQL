{
 "cells": [
  {
   "cell_type": "code",
   "execution_count": 1,
   "id": "03244e5d",
   "metadata": {},
   "outputs": [],
   "source": [
    "import pandas as pd"
   ]
  },
  {
   "cell_type": "code",
   "execution_count": 6,
   "id": "be922ad3",
   "metadata": {},
   "outputs": [],
   "source": [
    "df = pd.read_csv(\"orders.csv\")"
   ]
  },
  {
   "cell_type": "code",
   "execution_count": 7,
   "id": "e2bca80c",
   "metadata": {},
   "outputs": [
    {
     "data": {
      "text/html": [
       "<div>\n",
       "<style scoped>\n",
       "    .dataframe tbody tr th:only-of-type {\n",
       "        vertical-align: middle;\n",
       "    }\n",
       "\n",
       "    .dataframe tbody tr th {\n",
       "        vertical-align: top;\n",
       "    }\n",
       "\n",
       "    .dataframe thead th {\n",
       "        text-align: right;\n",
       "    }\n",
       "</style>\n",
       "<table border=\"1\" class=\"dataframe\">\n",
       "  <thead>\n",
       "    <tr style=\"text-align: right;\">\n",
       "      <th></th>\n",
       "      <th>order_id</th>\n",
       "      <th>customer</th>\n",
       "      <th>product</th>\n",
       "      <th>quantity</th>\n",
       "      <th>price</th>\n",
       "      <th>order_date</th>\n",
       "    </tr>\n",
       "  </thead>\n",
       "  <tbody>\n",
       "    <tr>\n",
       "      <th>0</th>\n",
       "      <td>pro_0068ee0e</td>\n",
       "      <td>Ly Van Dung</td>\n",
       "      <td>comb</td>\n",
       "      <td>1</td>\n",
       "      <td>21000</td>\n",
       "      <td>2025-01-27</td>\n",
       "    </tr>\n",
       "    <tr>\n",
       "      <th>1</th>\n",
       "      <td>pro_0068ee0f</td>\n",
       "      <td>Nguyen Duc Tran</td>\n",
       "      <td>Mirror</td>\n",
       "      <td>3</td>\n",
       "      <td>80000</td>\n",
       "      <td>2025-01-23</td>\n",
       "    </tr>\n",
       "    <tr>\n",
       "      <th>2</th>\n",
       "      <td>pro_0068ee10</td>\n",
       "      <td>Pham Ba An</td>\n",
       "      <td>Lamp</td>\n",
       "      <td>6</td>\n",
       "      <td>120000</td>\n",
       "      <td>2025-02-01</td>\n",
       "    </tr>\n",
       "    <tr>\n",
       "      <th>3</th>\n",
       "      <td>pro_0068ee11</td>\n",
       "      <td>Le Ba Phu</td>\n",
       "      <td>Pencil</td>\n",
       "      <td>8</td>\n",
       "      <td>10000</td>\n",
       "      <td>2025-01-21</td>\n",
       "    </tr>\n",
       "    <tr>\n",
       "      <th>4</th>\n",
       "      <td>pro_0068ee12</td>\n",
       "      <td>Nguyen Trong Duc</td>\n",
       "      <td>Bomb</td>\n",
       "      <td>9</td>\n",
       "      <td>700000</td>\n",
       "      <td>2025-01-31</td>\n",
       "    </tr>\n",
       "  </tbody>\n",
       "</table>\n",
       "</div>"
      ],
      "text/plain": [
       "       order_id          customer product  quantity   price  order_date\n",
       "0  pro_0068ee0e       Ly Van Dung    comb         1   21000  2025-01-27\n",
       "1  pro_0068ee0f   Nguyen Duc Tran  Mirror         3   80000  2025-01-23\n",
       "2  pro_0068ee10        Pham Ba An    Lamp         6  120000  2025-02-01\n",
       "3  pro_0068ee11         Le Ba Phu  Pencil         8   10000  2025-01-21\n",
       "4  pro_0068ee12  Nguyen Trong Duc    Bomb         9  700000  2025-01-31"
      ]
     },
     "execution_count": 7,
     "metadata": {},
     "output_type": "execute_result"
    }
   ],
   "source": [
    "df.head()"
   ]
  },
  {
   "cell_type": "code",
   "execution_count": 8,
   "id": "cc1820cb",
   "metadata": {},
   "outputs": [
    {
     "data": {
      "text/html": [
       "<div>\n",
       "<style scoped>\n",
       "    .dataframe tbody tr th:only-of-type {\n",
       "        vertical-align: middle;\n",
       "    }\n",
       "\n",
       "    .dataframe tbody tr th {\n",
       "        vertical-align: top;\n",
       "    }\n",
       "\n",
       "    .dataframe thead th {\n",
       "        text-align: right;\n",
       "    }\n",
       "</style>\n",
       "<table border=\"1\" class=\"dataframe\">\n",
       "  <thead>\n",
       "    <tr style=\"text-align: right;\">\n",
       "      <th></th>\n",
       "      <th>order_id</th>\n",
       "      <th>customer</th>\n",
       "      <th>product</th>\n",
       "      <th>quantity</th>\n",
       "      <th>price</th>\n",
       "      <th>order_date</th>\n",
       "      <th>total</th>\n",
       "    </tr>\n",
       "  </thead>\n",
       "  <tbody>\n",
       "    <tr>\n",
       "      <th>0</th>\n",
       "      <td>pro_0068ee0e</td>\n",
       "      <td>Ly Van Dung</td>\n",
       "      <td>comb</td>\n",
       "      <td>1</td>\n",
       "      <td>21000</td>\n",
       "      <td>2025-01-27</td>\n",
       "      <td>21000</td>\n",
       "    </tr>\n",
       "    <tr>\n",
       "      <th>1</th>\n",
       "      <td>pro_0068ee0f</td>\n",
       "      <td>Nguyen Duc Tran</td>\n",
       "      <td>Mirror</td>\n",
       "      <td>3</td>\n",
       "      <td>80000</td>\n",
       "      <td>2025-01-23</td>\n",
       "      <td>240000</td>\n",
       "    </tr>\n",
       "    <tr>\n",
       "      <th>2</th>\n",
       "      <td>pro_0068ee10</td>\n",
       "      <td>Pham Ba An</td>\n",
       "      <td>Lamp</td>\n",
       "      <td>6</td>\n",
       "      <td>120000</td>\n",
       "      <td>2025-02-01</td>\n",
       "      <td>720000</td>\n",
       "    </tr>\n",
       "    <tr>\n",
       "      <th>3</th>\n",
       "      <td>pro_0068ee11</td>\n",
       "      <td>Le Ba Phu</td>\n",
       "      <td>Pencil</td>\n",
       "      <td>8</td>\n",
       "      <td>10000</td>\n",
       "      <td>2025-01-21</td>\n",
       "      <td>80000</td>\n",
       "    </tr>\n",
       "    <tr>\n",
       "      <th>4</th>\n",
       "      <td>pro_0068ee12</td>\n",
       "      <td>Nguyen Trong Duc</td>\n",
       "      <td>Bomb</td>\n",
       "      <td>9</td>\n",
       "      <td>700000</td>\n",
       "      <td>2025-01-31</td>\n",
       "      <td>6300000</td>\n",
       "    </tr>\n",
       "  </tbody>\n",
       "</table>\n",
       "</div>"
      ],
      "text/plain": [
       "       order_id          customer product  quantity   price  order_date  \\\n",
       "0  pro_0068ee0e       Ly Van Dung    comb         1   21000  2025-01-27   \n",
       "1  pro_0068ee0f   Nguyen Duc Tran  Mirror         3   80000  2025-01-23   \n",
       "2  pro_0068ee10        Pham Ba An    Lamp         6  120000  2025-02-01   \n",
       "3  pro_0068ee11         Le Ba Phu  Pencil         8   10000  2025-01-21   \n",
       "4  pro_0068ee12  Nguyen Trong Duc    Bomb         9  700000  2025-01-31   \n",
       "\n",
       "     total  \n",
       "0    21000  \n",
       "1   240000  \n",
       "2   720000  \n",
       "3    80000  \n",
       "4  6300000  "
      ]
     },
     "execution_count": 8,
     "metadata": {},
     "output_type": "execute_result"
    }
   ],
   "source": [
    "df[\"total\"] = df[\"quantity\"] * df[\"price\"]\n",
    "df.head()"
   ]
  },
  {
   "cell_type": "code",
   "execution_count": 9,
   "id": "b97a09cb",
   "metadata": {},
   "outputs": [
    {
     "name": "stdout",
     "output_type": "stream",
     "text": [
      "97321000\n"
     ]
    }
   ],
   "source": [
    "total_income = sum(df[\"total\"])\n",
    "print(total_income)"
   ]
  },
  {
   "cell_type": "code",
   "execution_count": 23,
   "id": "a6974a0a",
   "metadata": {},
   "outputs": [
    {
     "name": "stdout",
     "output_type": "stream",
     "text": [
      "         date  number of orders\n",
      "6  2025-01-01                 2\n",
      "23 2025-01-02                 6\n",
      "22 2025-01-03                 1\n",
      "24 2025-01-04                 2\n",
      "14 2025-01-05                 3\n",
      "28 2025-01-06                 1\n",
      "8  2025-01-10                 8\n",
      "15 2025-01-11                 4\n",
      "5  2025-01-12                 5\n",
      "9  2025-01-13                 1\n",
      "7  2025-01-14                 3\n",
      "18 2025-01-15                 4\n",
      "16 2025-01-16                 5\n",
      "11 2025-01-17                 5\n",
      "19 2025-01-18                 3\n",
      "12 2025-01-19                 6\n",
      "27 2025-01-20                 2\n",
      "3  2025-01-21                 5\n",
      "10 2025-01-22                 1\n",
      "1  2025-01-23                 4\n",
      "13 2025-01-24                 5\n",
      "20 2025-01-25                 3\n",
      "26 2025-01-26                 3\n",
      "0  2025-01-27                 2\n",
      "25 2025-01-28                 4\n",
      "21 2025-01-29                 3\n",
      "17 2025-01-30                 1\n",
      "4  2025-01-31                 3\n",
      "2  2025-02-01                 5\n"
     ]
    }
   ],
   "source": [
    "unique_date = df[\"order_date\"].unique()\n",
    "count_by_day = [0 for _ in range(len(unique_date))]\n",
    "for i in range(len(df)):\n",
    "    for j in range(len(unique_date)):\n",
    "        if df.at[i, \"order_date\"] == unique_date[j]:\n",
    "            count_by_day[j] += 1\n",
    "            break\n",
    "df_count_per_day = pd.DataFrame({\"date\": unique_date, \"number of orders\": count_by_day})\n",
    "df_count_per_day[\"date\"] = pd.to_datetime(df_count_per_day[\"date\"])\n",
    "df_count_per_day = df_count_per_day.sort_values(by = \"date\")\n",
    "print(df_count_per_day)\n"
   ]
  },
  {
   "cell_type": "code",
   "execution_count": 24,
   "id": "52e1f23e",
   "metadata": {},
   "outputs": [
    {
     "name": "stdout",
     "output_type": "stream",
     "text": [
      "         date   income\n",
      "6  2025-01-01   150000\n",
      "23 2025-01-02  6070000\n",
      "22 2025-01-03   540000\n",
      "24 2025-01-04  1074000\n",
      "14 2025-01-05  3317000\n",
      "the most revenue day:  2025-01-10 00:00:00\n",
      "income:  12683000\n"
     ]
    }
   ],
   "source": [
    "income_by_day = [0 for _ in range(len(unique_date))]\n",
    "for i in range(len(df)):\n",
    "    for j in range(len(unique_date)):\n",
    "        if df.at[i, \"order_date\"] == unique_date[j]:\n",
    "            income_by_day[j] += df.at[i, \"total\"]\n",
    "            break\n",
    "df_income_per_day = pd.DataFrame({\"date\": unique_date, \"income\": income_by_day})\n",
    "df_income_per_day[\"date\"] = pd.to_datetime(df_income_per_day[\"date\"])\n",
    "df_income_per_day = df_income_per_day.sort_values(by = \"date\")\n",
    "print(df_income_per_day.head())\n",
    "max_income_row = df_income_per_day.loc[df_income_per_day['income'].idxmax()]\n",
    "print(\"the most revenue day: \", max_income_row['date'])\n",
    "print(\"income: \", max_income_row['income'])\n"
   ]
  },
  {
   "cell_type": "code",
   "execution_count": 27,
   "id": "c31ba5df",
   "metadata": {},
   "outputs": [
    {
     "name": "stdout",
     "output_type": "stream",
     "text": [
      "  product  quality\n",
      "0    comb        3\n",
      "1  Mirror        5\n",
      "2    Lamp        5\n",
      "3  Pencil        3\n",
      "4    Bomb        7\n"
     ]
    }
   ],
   "source": [
    "unique_product = df[\"product\"].unique()\n",
    "quality_by_product = [0 for _ in range(len(unique_product))]\n",
    "for i in range(len(df)):\n",
    "    for j in range(len(unique_product)):\n",
    "        if df.at[i, \"product\"] == unique_product[j]:\n",
    "            quality_by_product[j] += 1\n",
    "            break\n",
    "df_quality_by_product = pd.DataFrame({\n",
    "    \"product\": unique_product,\n",
    "    \"quality\": quality_by_product\n",
    "})\n",
    "print(df_quality_by_product.head())"
   ]
  },
  {
   "cell_type": "code",
   "execution_count": null,
   "id": "b25f1bf9",
   "metadata": {},
   "outputs": [],
   "source": []
  }
 ],
 "metadata": {
  "kernelspec": {
   "display_name": "Python 3",
   "language": "python",
   "name": "python3"
  },
  "language_info": {
   "codemirror_mode": {
    "name": "ipython",
    "version": 3
   },
   "file_extension": ".py",
   "mimetype": "text/x-python",
   "name": "python",
   "nbconvert_exporter": "python",
   "pygments_lexer": "ipython3",
   "version": "3.12.3"
  }
 },
 "nbformat": 4,
 "nbformat_minor": 5
}
